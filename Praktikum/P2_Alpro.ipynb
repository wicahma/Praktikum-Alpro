{
 "cells": [
  {
   "cell_type": "raw",
   "metadata": {},
   "source": [
    "Nama : Teguh Dwi Cahya Kusuma\n",
    "NIM     : 2000016015\n",
    "Kelas   : B"
   ]
  },
  {
   "cell_type": "markdown",
   "metadata": {},
   "source": [
    "#### Variabel Global"
   ]
  },
  {
   "cell_type": "code",
   "execution_count": 15,
   "metadata": {},
   "outputs": [
    {
     "name": "stdout",
     "output_type": "stream",
     "text": [
      "Ini variabel Global\n"
     ]
    }
   ],
   "source": [
    "x='Ini variabel Global'\n",
    "print(x)"
   ]
  },
  {
   "cell_type": "markdown",
   "metadata": {},
   "source": [
    "#### Variabel Lokal"
   ]
  },
  {
   "cell_type": "code",
   "execution_count": 16,
   "metadata": {},
   "outputs": [
    {
     "data": {
      "text/plain": [
       "'Ini variabel Lokal'"
      ]
     },
     "execution_count": 16,
     "metadata": {},
     "output_type": "execute_result"
    }
   ],
   "source": [
    "def var():\n",
    "    x='Ini variabel Lokal'\n",
    "    return x\n",
    "var()\n",
    "    "
   ]
  },
  {
   "cell_type": "markdown",
   "metadata": {},
   "source": [
    "#### Memanggil Variabel Global"
   ]
  },
  {
   "cell_type": "markdown",
   "metadata": {},
   "source": [
    "Cara untuk memanggil variabel global kedalam suatu fungsi dan mengerjakannya"
   ]
  },
  {
   "cell_type": "code",
   "execution_count": 29,
   "metadata": {},
   "outputs": [
    {
     "name": "stdout",
     "output_type": "stream",
     "text": [
      "ini variabel Global ini variabel Global ini variabel Global \n"
     ]
    }
   ],
   "source": [
    "x='Ini variabel Global '\n",
    "def asem():\n",
    "    global x\n",
    "    x*=3\n",
    "    print(x)\n",
    "asem()"
   ]
  },
  {
   "cell_type": "markdown",
   "metadata": {},
   "source": [
    "#### Tanpa variabel nonlocal"
   ]
  },
  {
   "cell_type": "code",
   "execution_count": 36,
   "metadata": {},
   "outputs": [
    {
     "name": "stdout",
     "output_type": "stream",
     "text": [
      "Sering Chatan,  Seneng lah kan\n",
      "Eh Friendzone,  Sedihnya sampe to the bone :')\n"
     ]
    }
   ],
   "source": [
    "def luar():\n",
    "    x=\"Sedihnya sampe to the bone :')\"\n",
    "    def dalam():\n",
    "        x='Seneng lah kan'\n",
    "        print('Sering Chatan,', x)\n",
    "    dalam()\n",
    "    print('Eh Friendzone,',x)\n",
    "luar()"
   ]
  },
  {
   "cell_type": "markdown",
   "metadata": {},
   "source": [
    "#### Dengan variabel nonlocal"
   ]
  },
  {
   "cell_type": "code",
   "execution_count": 48,
   "metadata": {},
   "outputs": [
    {
     "name": "stdout",
     "output_type": "stream",
     "text": [
      "sering chatan udah friedzone duluan\n",
      "yaudahlahya udah friedzone duluan\n"
     ]
    }
   ],
   "source": [
    "def Teguh():\n",
    "    x='mo nembak'\n",
    "    def dalam():\n",
    "        nonlocal x\n",
    "        x='udah friedzone duluan'\n",
    "        print('sering chatan', x)\n",
    "    dalam()\n",
    "    print('yaudahlahya',x)\n",
    "Teguh()"
   ]
  },
  {
   "cell_type": "markdown",
   "metadata": {},
   "source": [
    "#### Pengelolaan Buku"
   ]
  },
  {
   "cell_type": "code",
   "execution_count": 59,
   "metadata": {
    "scrolled": false
   },
   "outputs": [
    {
     "name": "stdout",
     "output_type": "stream",
     "text": [
      "\n",
      "List Perintah CRUD + Perintah tambahan:\n",
      "    1 => Melihat buku\n",
      "    2 => Memasukkan buku\n",
      "    3 => Mengedit buku\n",
      "    4 => Menghapus buku\n",
      "Tekan sembarang untuk keluar..\n",
      "          \n",
      "Masukkan pilihan anda: 3\n",
      "Anda belum membuat list/List anda kosong\n",
      "\n",
      "List Perintah CRUD + Perintah tambahan:\n",
      "    1 => Melihat buku\n",
      "    2 => Memasukkan buku\n",
      "    3 => Mengedit buku\n",
      "    4 => Menghapus buku\n",
      "Tekan sembarang untuk keluar..\n",
      "          \n",
      "Masukkan pilihan anda: 4\n",
      "List buku anda\n",
      "Anda belum membuat list/List anda kosong\n",
      "\n",
      "List Perintah CRUD + Perintah tambahan:\n",
      "    1 => Melihat buku\n",
      "    2 => Memasukkan buku\n",
      "    3 => Mengedit buku\n",
      "    4 => Menghapus buku\n",
      "Tekan sembarang untuk keluar..\n",
      "          \n",
      "Masukkan pilihan anda: 1\n",
      "Maaf, anda belum memasukkan buku apapun\n",
      "\n",
      "List Perintah CRUD + Perintah tambahan:\n",
      "    1 => Melihat buku\n",
      "    2 => Memasukkan buku\n",
      "    3 => Mengedit buku\n",
      "    4 => Menghapus buku\n",
      "Tekan sembarang untuk keluar..\n",
      "          \n",
      "Masukkan pilihan anda: 2\n",
      "Masukkan nama buku: Itaewon Class\n",
      "\n",
      "List Perintah CRUD + Perintah tambahan:\n",
      "    1 => Melihat buku\n",
      "    2 => Memasukkan buku\n",
      "    3 => Mengedit buku\n",
      "    4 => Menghapus buku\n",
      "Tekan sembarang untuk keluar..\n",
      "          \n",
      "Masukkan pilihan anda: 2\n",
      "Masukkan nama buku: Awaken\n",
      "\n",
      "List Perintah CRUD + Perintah tambahan:\n",
      "    1 => Melihat buku\n",
      "    2 => Memasukkan buku\n",
      "    3 => Mengedit buku\n",
      "    4 => Menghapus buku\n",
      "Tekan sembarang untuk keluar..\n",
      "          \n",
      "Masukkan pilihan anda: 1\n",
      "List buku anda\n",
      "1. Itaewon Class\n",
      "2. Awaken\n",
      "\n",
      "List Perintah CRUD + Perintah tambahan:\n",
      "    1 => Melihat buku\n",
      "    2 => Memasukkan buku\n",
      "    3 => Mengedit buku\n",
      "    4 => Menghapus buku\n",
      "Tekan sembarang untuk keluar..\n",
      "          \n",
      "Masukkan pilihan anda: 3\n",
      "1. Itaewon Class\n",
      "2. Awaken\n",
      "Masukkan indeks buku yang ingin diedit: 1\n",
      "Masukkan judul  yang baru: Kimi No Nawa\n",
      "\n",
      "List Perintah CRUD + Perintah tambahan:\n",
      "    1 => Melihat buku\n",
      "    2 => Memasukkan buku\n",
      "    3 => Mengedit buku\n",
      "    4 => Menghapus buku\n",
      "Tekan sembarang untuk keluar..\n",
      "          \n",
      "Masukkan pilihan anda: 1\n",
      "List buku anda\n",
      "1. Kimi No Nawa\n",
      "2. Awaken\n",
      "\n",
      "List Perintah CRUD + Perintah tambahan:\n",
      "    1 => Melihat buku\n",
      "    2 => Memasukkan buku\n",
      "    3 => Mengedit buku\n",
      "    4 => Menghapus buku\n",
      "Tekan sembarang untuk keluar..\n",
      "          \n",
      "Masukkan pilihan anda: 4\n",
      "List buku anda\n",
      "1. Kimi No Nawa\n",
      "2. Awaken\n",
      "Masukkan indeks buku yang ingin dihapus: 1\n",
      "\n",
      "List Perintah CRUD + Perintah tambahan:\n",
      "    1 => Melihat buku\n",
      "    2 => Memasukkan buku\n",
      "    3 => Mengedit buku\n",
      "    4 => Menghapus buku\n",
      "Tekan sembarang untuk keluar..\n",
      "          \n",
      "Masukkan pilihan anda: 1\n",
      "List buku anda\n",
      "1. Awaken\n",
      "\n",
      "List Perintah CRUD + Perintah tambahan:\n",
      "    1 => Melihat buku\n",
      "    2 => Memasukkan buku\n",
      "    3 => Mengedit buku\n",
      "    4 => Menghapus buku\n",
      "Tekan sembarang untuk keluar..\n",
      "          \n",
      "Masukkan pilihan anda: 2\n",
      "Masukkan nama buku: Marmut Merah Jambu\n",
      "\n",
      "List Perintah CRUD + Perintah tambahan:\n",
      "    1 => Melihat buku\n",
      "    2 => Memasukkan buku\n",
      "    3 => Mengedit buku\n",
      "    4 => Menghapus buku\n",
      "Tekan sembarang untuk keluar..\n",
      "          \n",
      "Masukkan pilihan anda: 1\n",
      "List buku anda\n",
      "1. Awaken\n",
      "2. Marmut Merah Jambu\n",
      "\n",
      "List Perintah CRUD + Perintah tambahan:\n",
      "    1 => Melihat buku\n",
      "    2 => Memasukkan buku\n",
      "    3 => Mengedit buku\n",
      "    4 => Menghapus buku\n",
      "Tekan sembarang untuk keluar..\n",
      "          \n",
      "Masukkan pilihan anda: \n"
     ]
    }
   ],
   "source": [
    "buku=[]\n",
    "#Fungsi menampilkan data\n",
    "def liat_buku():\n",
    "    global buku\n",
    "    maaf=\"Maaf, anda belum memasukkan buku apapun\"\n",
    "    if len(buku)<=0:\n",
    "        print(maaf)\n",
    "    else:\n",
    "        print('List buku anda')\n",
    "        for indek in range(len(buku)):\n",
    "            print(\"%i. %s\"%(indek+1,buku[indek]))\n",
    "    return buku\n",
    "\n",
    "#fungsi Mengimput data\n",
    "def inp_buku():\n",
    "    global buku\n",
    "    bbaru=input('Masukkan nama buku: ')\n",
    "    buku.insert(len(buku)+1,bbaru)\n",
    "    return bbaru\n",
    "\n",
    "#fungsi untuk Mengedit data\n",
    "def edit_buku():\n",
    "    global buku\n",
    "    if len(buku)<=0:\n",
    "        print('Anda belum membuat list/List anda kosong')\n",
    "    else:\n",
    "        for indek in range(len(buku)):\n",
    "            print(\"%i. %s\"%(indek+1,buku[indek]))\n",
    "        edt=int(input(\"Masukkan indeks buku yang ingin diedit: \"))\n",
    "        if edt>len(buku) or edt<=0:\n",
    "            print('Mohon masukkan Indek buku yang sesuai, progam akan kembali ke pilihan...')\n",
    "        else:\n",
    "            nam=input('Masukkan judul  yang baru: ')\n",
    "            buku[edt-1]=nam\n",
    "            return edt\n",
    "\n",
    "#fungsi untuk menghapus data\n",
    "def hps_buku():\n",
    "    global buku\n",
    "    print('List buku anda')\n",
    "    if len(buku)<=0:\n",
    "        print('Anda belum membuat list/List anda kosong')\n",
    "    else:\n",
    "        for indek in range(len(buku)):\n",
    "            print(\"%i. %s\"%(indek+1,buku[indek]))\n",
    "        hps=int(input(\"Masukkan indeks buku yang ingin dihapus: \"))\n",
    "        if hps>len(buku) or hps<=0:\n",
    "            print('Mohon masukkan Indek buku yang sesuai, progam akan kembali ke pilihan...')\n",
    "        else:\n",
    "            del buku[hps-1]\n",
    "        return hps\n",
    "\n",
    "while True:\n",
    "    print('''\n",
    "List Perintah CRUD + Perintah tambahan:\n",
    "    1 => Melihat buku\n",
    "    2 => Memasukkan buku\n",
    "    3 => Mengedit buku\n",
    "    4 => Menghapus buku\n",
    "Tekan sembarang untuk keluar..\n",
    "          ''')\n",
    "    pil=input(\"Masukkan pilihan anda: \")\n",
    "    if pil=='1':\n",
    "        liat_buku()\n",
    "    elif pil=='2':\n",
    "        inp_buku()\n",
    "    elif pil=='3':\n",
    "         edit_buku()\n",
    "    elif pil=='4':\n",
    "        hps_buku()\n",
    "    else:\n",
    "        break"
   ]
  },
  {
   "cell_type": "code",
   "execution_count": null,
   "metadata": {},
   "outputs": [],
   "source": []
  },
  {
   "cell_type": "code",
   "execution_count": null,
   "metadata": {},
   "outputs": [],
   "source": []
  }
 ],
 "metadata": {
  "kernelspec": {
   "display_name": "Python 3",
   "language": "python",
   "name": "python3"
  }
 },
 "nbformat": 4,
 "nbformat_minor": 4
}
