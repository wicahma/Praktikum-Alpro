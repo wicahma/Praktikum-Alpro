{
 "cells": [
  {
   "cell_type": "markdown",
   "metadata": {},
   "source": [
    "~ Nama Teguh Dwi Cahya Kusuma\n",
    " -/- NIM 2000016015\n",
    " -/- Kelas B "
   ]
  },
  {
   "cell_type": "markdown",
   "metadata": {},
   "source": [
    "#### Percobaan"
   ]
  },
  {
   "cell_type": "code",
   "execution_count": 6,
   "metadata": {},
   "outputs": [
    {
     "name": "stdout",
     "output_type": "stream",
     "text": [
      "6\n"
     ]
    }
   ],
   "source": [
    "# Faktorial ( ! )\n",
    "\n",
    "def faktorial(n):\n",
    "    if n==0:\n",
    "        return 1\n",
    "    else:\n",
    "        return n*faktorial(n-1)\n",
    "print(faktorial(3))"
   ]
  },
  {
   "cell_type": "code",
   "execution_count": 5,
   "metadata": {
    "scrolled": false
   },
   "outputs": [
    {
     "name": "stdout",
     "output_type": "stream",
     "text": [
      "Angka: 10\n",
      "55\n"
     ]
    }
   ],
   "source": [
    "# Fibonacci \n",
    "\n",
    "def f(n):\n",
    "    if n==0:\n",
    "        return 0\n",
    "    elif n==1:\n",
    "        return 1\n",
    "    else:\n",
    "        return f(n-1)+f(n-2)\n",
    "print(f(int(input('Angka: '))))"
   ]
  },
  {
   "cell_type": "markdown",
   "metadata": {},
   "source": [
    "#### Latihan"
   ]
  },
  {
   "cell_type": "markdown",
   "metadata": {},
   "source": [
    "#### 1. Program Fibonacci menggunakan for/while  "
   ]
  },
  {
   "cell_type": "code",
   "execution_count": 6,
   "metadata": {},
   "outputs": [
    {
     "name": "stdout",
     "output_type": "stream",
     "text": [
      "\n",
      "==Program Fibonacci\n",
      "Input Bilangan: 2\n",
      "\n",
      "Bilangan Fibonacci ke-2 dari input diatas adalah 1 \n",
      "Deret Fibonacci \n",
      "     [0, 1, 1]\n",
      "\n",
      "==Enter untuk lanjut, s untuk berenti\n",
      "Continue... -11\n",
      "\n",
      "==Program Fibonacci\n",
      "Input Bilangan: -11\n",
      "Mohon masukkan angka, hanya bilangan cacah\n",
      "\n",
      "==Enter untuk lanjut, s untuk berenti\n",
      "Continue... \n",
      "\n",
      "==Program Fibonacci\n",
      "Input Bilangan: 22\n",
      "\n",
      "Bilangan Fibonacci ke-22 dari input diatas adalah 17711 \n",
      "Deret Fibonacci \n",
      "     [0, 1, 1, 2, 3, 5, 8, 13, 21, 34, 55, 89, 144, 233, 377, 610, 987, 1597, 2584, 4181, 6765, 10946, 17711]\n",
      "\n",
      "==Enter untuk lanjut, s untuk berenti\n",
      "Continue... s\n",
      "Program selesai..\n"
     ]
    }
   ],
   "source": [
    "#variabel Global\n",
    "fibo=[0]\n",
    "#Fungsi Def\n",
    "def fibb(inp):\n",
    "    ank1=1\n",
    "    ank2=0\n",
    "    a=0\n",
    "    for x in range(inp):\n",
    "        a=ank1+ank2\n",
    "        ank1=ank2\n",
    "        ank2=a\n",
    "        fibo.append(a)\n",
    "        \n",
    "    return a\n",
    "\n",
    "#Input & Fungsi pemanggil\n",
    "\n",
    "\n",
    "while True:\n",
    "    print('\\n==Program Fibonacci')\n",
    "    inp=int(input('Input Bilangan: '))\n",
    "    if inp >=0:\n",
    "        print('\\nBilangan Fibonacci ke-%i dari input diatas adalah %i'%(inp,fibb(inp)),'\\nDeret Fibonacci \\n    ',fibo)\n",
    "        del fibo[1:len(fibo)]\n",
    "    else:\n",
    "        print('Mohon masukkan angka, hanya bilangan cacah')\n",
    "    print('\\n==Enter untuk lanjut, s untuk berenti')\n",
    "    loop=input('Continue... ')\n",
    "    if loop=='s':\n",
    "        break\n",
    "    else:\n",
    "        True\n",
    "print('Program selesai..')"
   ]
  },
  {
   "cell_type": "markdown",
   "metadata": {},
   "source": [
    "#### 2. Program fungsi 2^x"
   ]
  },
  {
   "cell_type": "markdown",
   "metadata": {},
   "source": [
    "#### a. analisis kasus"
   ]
  },
  {
   "cell_type": "code",
   "execution_count": 11,
   "metadata": {},
   "outputs": [
    {
     "data": {
      "text/plain": [
       "4"
      ]
     },
     "execution_count": 11,
     "metadata": {},
     "output_type": "execute_result"
    }
   ],
   "source": [
    "#fungsi 2^x\n",
    "\n",
    "#Fungsi def untuk membuat fungsi rekursinya\n",
    "def pan(inp):\n",
    "    #==Kasus Penyetop (Stoop case)\n",
    "    #            Fungsi if untuk memberikan penbatas dari perulangan, \n",
    "    #       agar fungsi rekursi dapat berhenti apabila \n",
    "    #       kondisi yang diinginkan telah terpenuhi\n",
    "    if inp==0:\n",
    "        return 1\n",
    "    #==Kasus Rekursi (Recursion Case)\n",
    "    #            Fungsi else merupakan fungsi utama rekursi\n",
    "    #       pada fungsi ini terjadi sebuah pengulangan def \n",
    "    #       yang masuk kedalam def, jadi apabila fungsi if diatas\n",
    "    #       telah benar benar terpenuhi, maka rekursi akan berhenti\n",
    "    #       dan output akan diberikan, sebagai hasil dari perulangan\n",
    "    else:\n",
    "        return 2*pan(inp-1)\n",
    "pan(2)\n",
    "#             Fungsi Rekursi ini mirip seperti perulangan for dan while,\n",
    "#       hanya saja fungsi ini lebih sulit, dan juga sering menimbulkan error\n",
    "#       apabila tidak dibuat dengan hati hati"
   ]
  },
  {
   "cell_type": "markdown",
   "metadata": {},
   "source": [
    "#### b. program dalam fungsi rekursi"
   ]
  },
  {
   "cell_type": "code",
   "execution_count": 9,
   "metadata": {},
   "outputs": [
    {
     "name": "stdout",
     "output_type": "stream",
     "text": [
      "\n",
      "==Program 2^x\n",
      "Pangkat -->12\n",
      "Hasil dari 2 pangkat 12 adalah: 4096\n",
      "\n",
      "==Enter untuk lanjut, s untuk berenti\n",
      "Continue... \n",
      "\n",
      "==Program 2^x\n",
      "Pangkat -->4\n",
      "Hasil dari 2 pangkat 4 adalah: 16\n",
      "\n",
      "==Enter untuk lanjut, s untuk berenti\n",
      "Continue... \n",
      "\n",
      "==Program 2^x\n",
      "Pangkat -->3\n",
      "Hasil dari 2 pangkat 3 adalah: 8\n",
      "\n",
      "==Enter untuk lanjut, s untuk berenti\n",
      "Continue... s\n",
      "Program selesai..\n"
     ]
    }
   ],
   "source": [
    "#fungsi Rekursi 2^x\n",
    "def pan(inp):\n",
    "    if inp==0:\n",
    "        return 1\n",
    "    else:\n",
    "        return 2*pan(inp-1)\n",
    "\n",
    "#Perulangan While\n",
    "while True:\n",
    "    print('\\n==Program 2^x')\n",
    "    inp=int(input('Pangkat -->'))\n",
    "    if inp >=0:\n",
    "        print('Hasil dari 2 pangkat %i adalah: %i'%(inp,pan(inp)))\n",
    "    else:\n",
    "        print('Mohon masukkan angka, hanya bilangan cacah')\n",
    "    print('\\n==Enter untuk lanjut, s untuk berenti')\n",
    "    loop=input('Continue... ')\n",
    "    if loop=='s':\n",
    "        break\n",
    "    else:\n",
    "        True\n",
    "        \n",
    "print('Program selesai..')"
   ]
  },
  {
   "cell_type": "markdown",
   "metadata": {},
   "source": [
    "#### c. dengan iterasi/perulangan"
   ]
  },
  {
   "cell_type": "code",
   "execution_count": 7,
   "metadata": {},
   "outputs": [
    {
     "name": "stdout",
     "output_type": "stream",
     "text": [
      "\n",
      "==Program 2^x\n",
      "Pangkat -->2\n",
      "Hasil dari 2 pangkat 2 adalah: 4\n",
      "\n",
      "==Enter untuk lanjut, s untuk berenti\n",
      "Continue... \n",
      "\n",
      "==Program 2^x\n",
      "Pangkat -->-21\n",
      "Mohon masukkan angka, hanya bilangan cacah\n",
      "\n",
      "==Enter untuk lanjut, s untuk berenti\n",
      "Continue... \n",
      "\n",
      "==Program 2^x\n",
      "Pangkat -->4\n",
      "Hasil dari 2 pangkat 4 adalah: 16\n",
      "\n",
      "==Enter untuk lanjut, s untuk berenti\n",
      "Continue... s\n",
      "Program selesai..\n"
     ]
    }
   ],
   "source": [
    "#fungsi def\n",
    "def pen(inp):\n",
    "    a=2\n",
    "    for i in range(inp-1):\n",
    "        a=a*2\n",
    "    return a\n",
    "\n",
    "#Fungsi Pemanggil\n",
    "while True:\n",
    "    print('\\n==Program 2^x')\n",
    "    inp=int(input('Pangkat -->'))\n",
    "    if inp >=0:\n",
    "        print('Hasil dari 2 pangkat %i adalah: %i'%(inp,pen(inp)))\n",
    "    else:\n",
    "        print('Mohon masukkan angka, hanya bilangan cacah')\n",
    "    print('\\n==Enter untuk lanjut, s untuk berenti')\n",
    "    loop=input('Continue... ')\n",
    "    if loop=='s':\n",
    "        break\n",
    "    else:\n",
    "        True\n",
    "\n",
    "print('Program selesai..')"
   ]
  },
  {
   "cell_type": "code",
   "execution_count": null,
   "metadata": {},
   "outputs": [],
   "source": []
  }
 ],
 "metadata": {
  "kernelspec": {
   "display_name": "Python 3",
   "language": "python",
   "name": "python3"
  }
 },
 "nbformat": 4,
 "nbformat_minor": 4
}
