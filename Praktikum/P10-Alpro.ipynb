{
 "metadata": {
  "language_info": {
   "codemirror_mode": {
    "name": "ipython",
    "version": 3
   },
   "file_extension": ".py",
   "mimetype": "text/x-python",
   "name": "python",
   "nbconvert_exporter": "python",
   "pygments_lexer": "ipython3",
   "version": "3.9.0"
  },
  "orig_nbformat": 4,
  "kernelspec": {
   "name": "python3",
   "display_name": "Python 3.9.0 64-bit"
  },
  "interpreter": {
   "hash": "247ab06e135bb35fa78c5eff31b2a9a0050dcb5fb773c2631d2a29ac689eeccb"
  }
 },
 "nbformat": 4,
 "nbformat_minor": 2,
 "cells": [
  {
   "source": [
    "Nama: Teguh Dwi Cahya Kusuma / NIM: 2000016015 / Kelas: B"
   ],
   "cell_type": "markdown",
   "metadata": {}
  },
  {
   "cell_type": "code",
   "execution_count": 150,
   "metadata": {},
   "outputs": [],
   "source": [
    "hari=['Senin', 'Selasa', 'Rabu', 'Kamis', \"Jum'at\", 'Sabtu', 'Minggu']\n",
    "keg={'Senin':[], 'Selasa':[], 'Rabu':[], 'Kamis':[], \"Jum'at\":[], 'Sabtu':[], 'Minggu':[]}\n",
    "def input_act():\n",
    "    for h in range(len(hari)):\n",
    "        inp_yn=input('Apakah ada kegiatan di hari '+hari[h]+' y/n >>')\n",
    "        if inp_yn=='y':\n",
    "            inp_keg='y'\n",
    "            while inp_keg != 'n': \n",
    "                inp_keg=input('Masukkan macam kegiatan hari '+hari[h]+' anda (n=berhenti)>> ')\n",
    "                keg[hari[h]].append(inp_keg)\n",
    "            keg[hari[h]].remove('n')\n",
    "        else:\n",
    "            pass\n",
    "    print('==Daftar kegiatan dalam 1 minggu:')\n",
    "    for har,ke in keg.items():\n",
    "        print('- %s => '%(har),end='')\n",
    "        if keg[har]==[]:\n",
    "            print(' --- ')\n",
    "        else:\n",
    "            print(', '.join(ke))"
   ]
  },
  {
   "cell_type": "code",
   "execution_count": 152,
   "metadata": {},
   "outputs": [
    {
     "output_type": "stream",
     "name": "stdout",
     "text": [
      "==Daftar kegiatan dalam 1 minggu:\n- Senin => makan, nuigas, tidur, rebahan, makan, nuga, kerja, tidur, kuliah\n- Selasa =>  --- \n- Rabu => renang, olahraga, kerja, rebahan, tidur, makan, nugas\n- Kamis => nugas, kerja, kuliah, belanja, sepedaan\n- Jum'at =>  --- \n- Sabtu => sholat, kerja, tidur, belanja, nugas, hiking, hunting\n- Minggu => tidurr\n"
     ]
    }
   ],
   "source": [
    "input_act()\n"
   ]
  },
  {
   "cell_type": "code",
   "execution_count": 149,
   "metadata": {},
   "outputs": [
    {
     "output_type": "stream",
     "name": "stdout",
     "text": [
      "total:  9\n",
      "total:  15\n",
      "total:  18\n",
      "total:  23\n",
      "total:  29\n",
      "game over\n",
      "total anda lebih dari 33\n",
      "point:  60\n"
     ]
    }
   ],
   "source": [
    "import random\n",
    "skor=0\n",
    "total=0\n",
    "cr=int(input('Apakah siap? y=1/n=2'))\n",
    "while total<33 and cr==1:\n",
    "    rn=random.randint(0,10)\n",
    "    total+=rn\n",
    "    print('total: ',total)\n",
    "    cr=int(input('Apakah siap? y=1/n=2'))\n",
    "if total<24:\n",
    "    print('game over')\n",
    "    print('Point: 0')\n",
    "elif total>33:\n",
    "    print('game over')\n",
    "    print('total anda lebih dari 33')\n",
    "    print('Point: 0')\n",
    "else:\n",
    "    print('game over')\n",
    "    score=10*(total-23)\n",
    "    print('total anda lebih dari 33')\n",
    "    print('point: ',score)\n"
   ]
  },
  {
   "cell_type": "code",
   "execution_count": null,
   "metadata": {},
   "outputs": [],
   "source": []
  }
 ]
}