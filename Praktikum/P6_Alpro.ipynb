{
 "cells": [
  {
   "cell_type": "markdown",
   "metadata": {},
   "source": [
    "Nama: Teguh Dwi Cahya Kusuma\n",
    "NIM : 2000016015\n",
    "kelas: B"
   ]
  },
  {
   "cell_type": "markdown",
   "metadata": {},
   "source": [
    "### Percobaan"
   ]
  },
  {
   "cell_type": "code",
   "execution_count": 49,
   "metadata": {
    "scrolled": true
   },
   "outputs": [
    {
     "name": "stdout",
     "output_type": "stream",
     "text": [
      "data 2 sebanyak 5 ditemukan di posisi [2, 5, 10, 13, 19]\n"
     ]
    },
    {
     "data": {
      "text/plain": [
       "[2, 5, 10, 13, 19]"
      ]
     },
     "execution_count": 49,
     "metadata": {},
     "output_type": "execute_result"
    }
   ],
   "source": [
    "def pencseq(ank,cari):\n",
    "    sis=[]\n",
    "    for i in range(len(ank)):\n",
    "        if ank[i]==cari:\n",
    "            sis.append(i+1)\n",
    "    if len(sis)>0:\n",
    "        print('data',cari,'sebanyak',len(sis),'ditemukan di posisi',sis)\n",
    "    else:\n",
    "        print('data tidak ditemukan')\n",
    "    return sis\n",
    "\n",
    "ank=[4,2,1,7,2,3,9,10,5,2,4,1,2,6,4,7,9,7,2,5,1,6]\n",
    "cari=2\n",
    "pencseq(ank,cari)"
   ]
  },
  {
   "cell_type": "code",
   "execution_count": 47,
   "metadata": {},
   "outputs": [
    {
     "name": "stdout",
     "output_type": "stream",
     "text": [
      "ank 3 ditemukan di posisi 3\n"
     ]
    }
   ],
   "source": [
    "def pencbin(ank,cari):\n",
    "    awal=1\n",
    "    akhir=len(ank)+1\n",
    "    ketemu=False\n",
    "    while (awal<=akhir) and not ketemu:\n",
    "        tengah=int((awal+akhir)/2)\n",
    "        if cari==ank[tengah]:\n",
    "            ketemu=True\n",
    "            print('ank',cari,'ditemukan di posisi',tengah)\n",
    "        elif(cari<ank[tengah]):\n",
    "            akhir=tengah-1\n",
    "        else:\n",
    "            awal=tengah+1\n",
    "    if ketemu==False:\n",
    "        print('Angka tidak ditemukan')\n",
    "\n",
    "ank=[1,2,2,3,4,4,4,5,5,6,6,6,7,8,9,9,9,10,11,11,17]\n",
    "cari=3\n",
    "pencbin(ank,cari)"
   ]
  },
  {
   "cell_type": "markdown",
   "metadata": {},
   "source": [
    "### Tugas"
   ]
  },
  {
   "cell_type": "markdown",
   "metadata": {},
   "source": [
    "# 1."
   ]
  },
  {
   "cell_type": "markdown",
   "metadata": {},
   "source": [
    "#### Seq search integer dengan Manual Input"
   ]
  },
  {
   "cell_type": "code",
   "execution_count": 46,
   "metadata": {
    "scrolled": false
   },
   "outputs": [
    {
     "name": "stdout",
     "output_type": "stream",
     "text": [
      "==Pencarian Sequential\n",
      "Memasukkan data dan kata kunci \n",
      "pencarian secara manual\n",
      "\n",
      "tekan 00 untuk mengakhiri pemasukan data\n",
      "tekan enter untuk lanjut\n",
      "\n",
      "Data:1\n",
      "Data:5\n",
      "Data:2\n",
      "Data:4\n",
      "Data:3\n",
      "Data:1\n",
      "Data:4\n",
      "Data:2\n",
      "Data:3\n",
      "Data:1\n",
      "Data:1\n",
      "Data:2\n",
      "Data:5\n",
      "Data:5\n",
      "Data:3\n",
      "Data:00\n",
      "List Data [1, 5, 2, 4, 3, 1, 4, 2, 3, 1, 1, 2, 5, 5, 3]\n",
      "\n",
      "Cari Angka:1\n",
      "\n",
      "Jumlah Iterasi: 15\n",
      "Data dicari: 1 \n",
      "Jumlah angka 1: 4 \n",
      "Posisi angka: [1, 6, 10, 11]\n"
     ]
    },
    {
     "data": {
      "text/plain": [
       "[1, 6, 10, 11]"
      ]
     },
     "execution_count": 46,
     "metadata": {},
     "output_type": "execute_result"
    }
   ],
   "source": [
    "def pencseq(ank,cari):\n",
    "    sis=[]\n",
    "    for i in range(len(ank)):\n",
    "        if ank[i]==cari:\n",
    "            sis.append(i+1)\n",
    "    print('\\nJumlah Iterasi:',i+1)\n",
    "    if len(sis)>0:\n",
    "        print('Data dicari:',cari,'\\nJumlah angka %d:'%(cari),len(sis),'\\nPosisi angka:',sis)\n",
    "    else:\n",
    "        print('Data tidak ditemukan')\n",
    "    return sis\n",
    "\n",
    "def dataank(ank):\n",
    "    while True: \n",
    "        inp_data=input('Data:')\n",
    "        if inp_data=='00':\n",
    "            break\n",
    "        else:\n",
    "            ank.append(int(inp_data))\n",
    "\n",
    "print('''==Pencarian Sequential\n",
    "Memasukkan data dan kata kunci \n",
    "pencarian secara manual\n",
    "\n",
    "tekan 00 untuk mengakhiri pemasukan data\n",
    "tekan enter untuk lanjut\n",
    "''')\n",
    "\n",
    "ank=[]\n",
    "dataank(ank)\n",
    "print('List Data', ank)\n",
    "cari=int(input('\\nCari Angka:'))\n",
    "pencseq(ank,cari)\n"
   ]
  },
  {
   "cell_type": "markdown",
   "metadata": {},
   "source": [
    "#### Seq search string dengan Manual Input"
   ]
  },
  {
   "cell_type": "code",
   "execution_count": 44,
   "metadata": {
    "scrolled": true
   },
   "outputs": [
    {
     "name": "stdout",
     "output_type": "stream",
     "text": [
      "==Pencarian Sequential\n",
      "Memasukkan data dan kata kunci \n",
      "pencarian secara manual\n",
      "\n",
      "tekan 00 untuk mengakhiri pemasukan data\n",
      "tekan enter untuk lanjut\n",
      "\n",
      "Masukkan data: assalamualaikum ughteaaaa\n",
      "List Data assalamualaikum ughteaaaa\n",
      "\n",
      "Cari data:a\n",
      "\n",
      "Jumlah Iterasi:  25\n",
      "Data:  a \n",
      "Jumlah a:  9 \n",
      "Posisi data:  [1, 4, 6, 9, 11, 22, 23, 24, 25]\n"
     ]
    },
    {
     "data": {
      "text/plain": [
       "[1, 4, 6, 9, 11, 22, 23, 24, 25]"
      ]
     },
     "execution_count": 44,
     "metadata": {},
     "output_type": "execute_result"
    }
   ],
   "source": [
    "def pencseq(stri,cari):\n",
    "    sis=[]\n",
    "    for i in range(len(stri)):\n",
    "        if stri[i]==cari:\n",
    "            sis.append(i+1)\n",
    "    print('\\nJumlah Iterasi: ',i+1)\n",
    "    if len(sis)>0:\n",
    "        print('Data: ',cari,'\\nJumlah %s: '%(cari),len(sis),'\\nPosisi data: ',sis)\n",
    "    else:\n",
    "        print('Data tidak ditemukan')\n",
    "    return sis\n",
    "\n",
    "\n",
    "print('''==Pencarian Sequential\n",
    "Memasukkan data dan kata kunci \n",
    "pencarian secara manual\n",
    "\n",
    "tekan 00 untuk mengakhiri pemasukan data\n",
    "tekan enter untuk lanjut\n",
    "''')\n",
    "\n",
    "stri=str(input('Masukkan data: '))\n",
    "print('List Data', stri)\n",
    "cari=input('\\nCari data:')\n",
    "pencseq(stri,cari)"
   ]
  },
  {
   "cell_type": "markdown",
   "metadata": {},
   "source": [
    "#### Bin search integer dengan Manual Input"
   ]
  },
  {
   "cell_type": "code",
   "execution_count": 19,
   "metadata": {},
   "outputs": [
    {
     "name": "stdout",
     "output_type": "stream",
     "text": [
      "==Pencarian Binary\n",
      "Memasukkan data dan kata kunci \n",
      "pencarian secara manual\n",
      "\n",
      "tekan 00 untuk mengakhiri pemasukan data\n",
      "tekan enter untuk lanjut...\n",
      "\n",
      "Data:1\n",
      "Data:3\n",
      "Data:2\n",
      "Data:4\n",
      "Data:2\n",
      "Data:3\n",
      "Data:5\n",
      "Data:1\n",
      "Data:00\n",
      "List Data [1, 1, 2, 2, 3, 3, 4, 5]\n",
      "\n",
      "Cari Angka:1\n",
      "Angka 1 Ditemukan di posisi: 1\n",
      "Jumlah Iterasi: 3\n"
     ]
    }
   ],
   "source": [
    "def pencbin(ank,cari):\n",
    "    awal=1\n",
    "    akhir=len(ank)+1\n",
    "    ketemu=False\n",
    "    iter=0\n",
    "    while (awal<=akhir) and not ketemu:\n",
    "        iter+=1\n",
    "        tengah=int((awal+akhir)/2)\n",
    "        if cari==ank[tengah]:\n",
    "            ketemu=True\n",
    "            print('Angka',cari,'Ditemukan di posisi:',tengah)\n",
    "        elif(cari<ank[tengah]):\n",
    "            akhir=tengah-1\n",
    "        else:\n",
    "            awal=tengah+1\n",
    "    if ketemu==False:\n",
    "        print('Angka tidak ditemukan')\n",
    "    print('Jumlah Iterasi:',iter)\n",
    "    \n",
    "def dataank(ank):\n",
    "    while True: \n",
    "        inp_data=input('Data:')\n",
    "        if inp_data=='00':\n",
    "            break\n",
    "        else:\n",
    "            ank.append(int(inp_data))\n",
    "    ank.sort()\n",
    "\n",
    "print('''==Pencarian Binary\n",
    "Memasukkan data dan kata kunci \n",
    "pencarian secara manual\n",
    "\n",
    "tekan 00 untuk mengakhiri pemasukan data\n",
    "tekan enter untuk lanjut...\n",
    "''')\n",
    "\n",
    "ank=[]\n",
    "dataank(ank)\n",
    "print('List Data', ank)\n",
    "cari=int(input('\\nCari Angka:'))\n",
    "pencbin(ank,cari)"
   ]
  },
  {
   "cell_type": "markdown",
   "metadata": {},
   "source": [
    "#### Bin search string"
   ]
  },
  {
   "cell_type": "code",
   "execution_count": 43,
   "metadata": {},
   "outputs": [
    {
     "name": "stdout",
     "output_type": "stream",
     "text": [
      "Data awal: samlekom mamank\n",
      "Data urut:  aaaekklmmmmnos\n",
      "Huruf a Ditemukan di posisi: 2\n",
      "Jumlah Iterasi: 3\n"
     ]
    }
   ],
   "source": [
    "def pencbin(hur,cari):\n",
    "    awal=1\n",
    "    akhir=len(hur)+1\n",
    "    ketemu=False\n",
    "    iter=0\n",
    "    while (awal<=akhir) and not ketemu:\n",
    "        iter+=1\n",
    "        tengah=int((awal+akhir)/2)\n",
    "        if cari==hur[tengah]:\n",
    "            ketemu=True\n",
    "            print('Huruf',cari,'Ditemukan di posisi:',tengah)\n",
    "        elif(cari<hur[tengah]):\n",
    "            akhir=tengah-1\n",
    "        else:\n",
    "            awal=tengah+1\n",
    "    if ketemu==False:\n",
    "        print('Huruf tidak ditemukan')\n",
    "    print('Jumlah Iterasi:',iter)\n",
    "    \n",
    "inp_hur=\"samlekom mamank\"\n",
    "print('Data awal:',inp_hur)\n",
    "hur=''.join(sorted(inp_hur))\n",
    "print('Data urut:',hur)\n",
    "cari='a'\n",
    "pencbin(hur,cari)"
   ]
  },
  {
   "cell_type": "markdown",
   "metadata": {},
   "source": [
    "# 2"
   ]
  },
  {
   "cell_type": "markdown",
   "metadata": {},
   "source": [
    "#### Sequential NIM Search"
   ]
  },
  {
   "cell_type": "code",
   "execution_count": 42,
   "metadata": {},
   "outputs": [
    {
     "name": "stdout",
     "output_type": "stream",
     "text": [
      "List Data [2, 0, 0, 0, 0, 1, 6, 0, 1, 5]\n",
      "\n",
      "Jumlah Iterasi: 10\n",
      "Data yang dicari: 0 \n",
      "Jumlah angka 0: 5 \n",
      "Posisi angka: [2, 3, 4, 5, 8]\n"
     ]
    },
    {
     "data": {
      "text/plain": [
       "[2, 3, 4, 5, 8]"
      ]
     },
     "execution_count": 42,
     "metadata": {},
     "output_type": "execute_result"
    }
   ],
   "source": [
    "def pencseq(nim,cari):\n",
    "    sis=[]\n",
    "    for i in range(len(nim)):\n",
    "        if nim[i]==cari:\n",
    "            sis.append(i+1)\n",
    "    print('\\nJumlah Iterasi:',i+1)\n",
    "    if len(sis)>0:\n",
    "        print('Data yang dicari:',cari,'\\nJumlah angka %d:'%(cari),len(sis),'\\nPosisi angka:',sis)\n",
    "    else:\n",
    "        print('Data tidak ditemukan')\n",
    "    return sis\n",
    "\n",
    "nim=[2,0,0,0,0,1,6,0,1,5]\n",
    "print('List Data', nim)\n",
    "cari=0\n",
    "pencseq(nim,cari)"
   ]
  },
  {
   "cell_type": "markdown",
   "metadata": {},
   "source": [
    "#### Binary NIM Search"
   ]
  },
  {
   "cell_type": "code",
   "execution_count": 11,
   "metadata": {},
   "outputs": [
    {
     "name": "stdout",
     "output_type": "stream",
     "text": [
      "List Data [0, 0, 0, 0, 0, 1, 1, 2, 5, 6]\n",
      "Angka 0 Ditemukan di posisi: 3\n",
      "Jumlah Iterasi: 2\n"
     ]
    }
   ],
   "source": [
    "def pencbin(nim,cari):\n",
    "    awal=1\n",
    "    akhir=len(nim)+1\n",
    "    ketemu=False\n",
    "    iter=0\n",
    "    while (awal<=akhir) and not ketemu:\n",
    "        iter+=1\n",
    "        tengah=int((awal+akhir)/2)\n",
    "        if cari==nim[tengah]:\n",
    "            ketemu=True\n",
    "            print('Angka',cari,'Ditemukan di posisi:',tengah)\n",
    "        elif(cari<nim[tengah]):\n",
    "            akhir=tengah-1\n",
    "        else:\n",
    "            awal=tengah+1\n",
    "    if ketemu==False:\n",
    "        print('Angka tidak ditemukan')\n",
    "    print('Jumlah Iterasi:',iter)\n",
    "\n",
    "nim=[2,0,0,0,0,1,6,0,1,5]\n",
    "nim.sort()\n",
    "print('List Data', nim)\n",
    "cari=0\n",
    "pencbin(nim,cari)"
   ]
  },
  {
   "cell_type": "markdown",
   "metadata": {},
   "source": [
    "# 3"
   ]
  },
  {
   "cell_type": "markdown",
   "metadata": {},
   "source": [
    "#### Binary search \"sistem informasi\" "
   ]
  },
  {
   "cell_type": "code",
   "execution_count": 37,
   "metadata": {},
   "outputs": [
    {
     "name": "stdout",
     "output_type": "stream",
     "text": [
      "data awal: sistem informasi\n",
      "data urut:  aefiiimmnorssst\n",
      "Huruf i Ditemukan di posisi: 4\n",
      "Jumlah Iterasi: 2\n"
     ]
    }
   ],
   "source": [
    "def pencbin(hur,cari):\n",
    "    awal=1\n",
    "    akhir=len(hur)+1\n",
    "    ketemu=False\n",
    "    iter=0\n",
    "    while (awal<=akhir) and not ketemu:\n",
    "        iter+=1\n",
    "        tengah=int((awal+akhir)/2)\n",
    "        if cari==hur[tengah]:\n",
    "            ketemu=True\n",
    "            print('Huruf',cari,'Ditemukan di posisi:',tengah)\n",
    "        elif(cari<hur[tengah]):\n",
    "            akhir=tengah-1\n",
    "        else:\n",
    "            awal=tengah+1\n",
    "    if ketemu==False:\n",
    "        print('Huruf tidak ditemukan')\n",
    "    print('Jumlah Iterasi:',iter)\n",
    "    \n",
    "inp_hur=\"sistem informasi\"\n",
    "print('data awal:',inp_hur)\n",
    "hur=''.join(sorted(inp_hur))\n",
    "print('data urut:',hur)\n",
    "cari='i'\n",
    "pencbin(hur,cari)"
   ]
  },
  {
   "cell_type": "markdown",
   "metadata": {},
   "source": [
    "#### Sequential search \"sistem informasi\""
   ]
  },
  {
   "cell_type": "code",
   "execution_count": 30,
   "metadata": {},
   "outputs": [
    {
     "name": "stdout",
     "output_type": "stream",
     "text": [
      "Data:  sistem informasi\n",
      "\n",
      "Jumlah Iterasi: 16\n",
      "Data: i \n",
      "Jumlah i: 3 \n",
      "Posisi data: [2, 8, 16]\n"
     ]
    },
    {
     "data": {
      "text/plain": [
       "[2, 8, 16]"
      ]
     },
     "execution_count": 30,
     "metadata": {},
     "output_type": "execute_result"
    }
   ],
   "source": [
    "def pencseq(hur,cari):\n",
    "    sis=[]\n",
    "    for i in range(len(hur)):\n",
    "        if hur[i]==cari:\n",
    "            sis.append(i+1)\n",
    "    print('\\nJumlah Iterasi:',i+1)\n",
    "    if len(sis)>0:\n",
    "        print('Data:',cari,'\\nJumlah %s:'%(cari),len(sis),'\\nPosisi data:',sis)\n",
    "    else:\n",
    "        print('Data tidak ditemukan')\n",
    "    return sis\n",
    "\n",
    "hur='sistem informasi'\n",
    "print('Data: ', hur)\n",
    "cari='i'\n",
    "pencseq(hur,cari)"
   ]
  },
  {
   "cell_type": "markdown",
   "metadata": {},
   "source": [
    "# 4"
   ]
  },
  {
   "cell_type": "markdown",
   "metadata": {},
   "source": [
    "#### Binary search Nama"
   ]
  },
  {
   "cell_type": "code",
   "execution_count": 38,
   "metadata": {},
   "outputs": [
    {
     "name": "stdout",
     "output_type": "stream",
     "text": [
      "data awal: teguh dwi cahya kusuma\n",
      "data urut:    aaacdeghhikmstuuuwy\n",
      "Huruf a Ditemukan di posisi: 3\n",
      "Jumlah Iterasi: 3\n"
     ]
    }
   ],
   "source": [
    "def pencbin(hur,cari):\n",
    "    awal=1\n",
    "    akhir=len(hur)+1\n",
    "    ketemu=False\n",
    "    iter=0\n",
    "    while (awal<=akhir) and not ketemu:\n",
    "        iter+=1\n",
    "        tengah=int((awal+akhir)/2)\n",
    "        if cari==hur[tengah]:\n",
    "            ketemu=True\n",
    "            print('Huruf',cari,'Ditemukan di posisi:',tengah)\n",
    "        elif(cari<hur[tengah]):\n",
    "            akhir=tengah-1\n",
    "        else:\n",
    "            awal=tengah+1\n",
    "    if ketemu==False:\n",
    "        print('Huruf tidak ditemukan')\n",
    "    print('Jumlah Iterasi:',iter)\n",
    "    \n",
    "inp_hur=\"teguh dwi cahya kusuma\"\n",
    "print('data awal:',inp_hur)\n",
    "hur=''.join(sorted(inp_hur))\n",
    "print('data urut:',hur)\n",
    "cari='a'\n",
    "pencbin(hur,cari)"
   ]
  },
  {
   "cell_type": "markdown",
   "metadata": {},
   "source": [
    "#### Sequential search Nama"
   ]
  },
  {
   "cell_type": "code",
   "execution_count": 39,
   "metadata": {},
   "outputs": [
    {
     "name": "stdout",
     "output_type": "stream",
     "text": [
      "Data:  teguh dwi cahya kusuma\n",
      "\n",
      "Jumlah Iterasi: 22\n",
      "Data: a \n",
      "Jumlah a: 3 \n",
      "Posisi data: [12, 15, 22]\n"
     ]
    },
    {
     "data": {
      "text/plain": [
       "[12, 15, 22]"
      ]
     },
     "execution_count": 39,
     "metadata": {},
     "output_type": "execute_result"
    }
   ],
   "source": [
    "def pencseq(hur,cari):\n",
    "    sis=[]\n",
    "    for i in range(len(hur)):\n",
    "        if hur[i]==cari:\n",
    "            sis.append(i+1)\n",
    "    print('\\nJumlah Iterasi:',i+1)\n",
    "    if len(sis)>0:\n",
    "        print('Data:',cari,'\\nJumlah %s:'%(cari),len(sis),'\\nPosisi data:',sis)\n",
    "    else:\n",
    "        print('Data tidak ditemukan')\n",
    "    return sis\n",
    "\n",
    "hur='teguh dwi cahya kusuma'\n",
    "print('Data: ', hur)\n",
    "cari='a'\n",
    "pencseq(hur,cari)"
   ]
  },
  {
   "cell_type": "code",
   "execution_count": null,
   "metadata": {},
   "outputs": [],
   "source": []
  }
 ],
 "metadata": {
  "kernelspec": {
   "display_name": "Python 3",
   "language": "python",
   "name": "python3"
  },
  "language_info": {
   "codemirror_mode": {
    "name": "ipython",
    "version": 3
   },
   "file_extension": ".py",
   "mimetype": "text/x-python",
   "name": "python",
   "nbconvert_exporter": "python",
   "pygments_lexer": "ipython3",
   "version": "3.8.3"
  }
 },
 "nbformat": 4,
 "nbformat_minor": 4
}
