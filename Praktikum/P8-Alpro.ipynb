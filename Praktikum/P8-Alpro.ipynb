{
 "cells": [
  {
   "cell_type": "markdown",
   "metadata": {},
   "source": [
    "Teguh Dwi Cahya Kusuma / 2000016015 / B"
   ]
  },
  {
   "cell_type": "markdown",
   "metadata": {},
   "source": [
    "## Percobaan"
   ]
  },
  {
   "cell_type": "markdown",
   "metadata": {},
   "source": [
    "Matrik dengan library NumPy"
   ]
  },
  {
   "cell_type": "code",
   "execution_count": 91,
   "metadata": {},
   "outputs": [
    {
     "name": "stdout",
     "output_type": "stream",
     "text": [
      "[[1 2 3]\n",
      " [4 5 6]\n",
      " [7 8 9]]\n"
     ]
    }
   ],
   "source": [
    "#NumPy\n",
    "import numpy as np\n",
    "matr=np.array([[1,2,3],[4,5,6],[7,8,9]])\n",
    "print(matr)\n"
   ]
  },
  {
   "cell_type": "markdown",
   "metadata": {},
   "source": [
    "Matrik dengan perulangan"
   ]
  },
  {
   "cell_type": "code",
   "execution_count": 92,
   "metadata": {},
   "outputs": [
    {
     "data": {
      "text/plain": [
       "[[2, 2, 2, 2, 2, 2, 2, 2, 2, 2],\n",
       " [2, 2, 2, 2, 2, 2, 2, 2, 2, 2],\n",
       " [2, 2, 2, 2, 2, 2, 2, 2, 2, 2],\n",
       " [2, 2, 2, 2, 2, 2, 2, 2, 2, 2]]"
      ]
     },
     "execution_count": 92,
     "metadata": {},
     "output_type": "execute_result"
    }
   ],
   "source": [
    "matr1=[[a for y in range(10)] for x in range(4)]\n",
    "matr1"
   ]
  },
  {
   "cell_type": "markdown",
   "metadata": {},
   "source": [
    "Matrik 0"
   ]
  },
  {
   "cell_type": "code",
   "execution_count": 93,
   "metadata": {},
   "outputs": [
    {
     "name": "stdout",
     "output_type": "stream",
     "text": [
      "[[0. 0. 0. 0. 0. 0. 0. 0. 0. 0. 0. 0. 0. 0. 0.]\n",
      " [0. 0. 0. 0. 0. 0. 0. 0. 0. 0. 0. 0. 0. 0. 0.]]\n"
     ]
    }
   ],
   "source": [
    "matr2=np.zeros((2,15))\n",
    "print(matr2)"
   ]
  },
  {
   "cell_type": "markdown",
   "metadata": {},
   "source": [
    "Matriks Random "
   ]
  },
  {
   "cell_type": "code",
   "execution_count": 94,
   "metadata": {},
   "outputs": [
    {
     "data": {
      "text/plain": [
       "array([[0.65961753, 0.11675547, 0.66141763, 0.61445032],\n",
       "       [0.53625449, 0.5303011 , 0.97514755, 0.9433253 ]])"
      ]
     },
     "execution_count": 94,
     "metadata": {},
     "output_type": "execute_result"
    }
   ],
   "source": [
    "np.random.rand(2,4)"
   ]
  },
  {
   "cell_type": "markdown",
   "metadata": {},
   "source": [
    "Pemanggilan matriks"
   ]
  },
  {
   "cell_type": "code",
   "execution_count": 95,
   "metadata": {},
   "outputs": [
    {
     "name": "stdout",
     "output_type": "stream",
     "text": [
      "The choosen One, is you: 5\n"
     ]
    }
   ],
   "source": [
    "matr3=np.array([[1, 2, 3],\n",
    "               [4, 5, 6],\n",
    "               [7, 8, 9]])\n",
    "print('The choosen One, is you:',matr3[1][1])"
   ]
  },
  {
   "cell_type": "markdown",
   "metadata": {},
   "source": [
    "Penumlahan matriks"
   ]
  },
  {
   "cell_type": "code",
   "execution_count": 96,
   "metadata": {},
   "outputs": [
    {
     "name": "stdout",
     "output_type": "stream",
     "text": [
      "8 9 5 \n",
      "8 12 11 \n",
      "3 5 1 \n"
     ]
    }
   ],
   "source": [
    "ma1=[[2,5,3],\n",
    "     [1,7,2],\n",
    "     [3,5,0]]\n",
    "\n",
    "ma2=[[6,4,2],\n",
    "     [7,5,9],\n",
    "     [0,0,1]]\n",
    "\n",
    "for x in range(0,len(ma1)):\n",
    "    for y in range(0,len(ma1[0])):\n",
    "        print(ma1[x][y] + ma2[x][y],end=' ')\n",
    "    print()"
   ]
  },
  {
   "cell_type": "markdown",
   "metadata": {},
   "source": [
    "Perkalian matriks"
   ]
  },
  {
   "cell_type": "code",
   "execution_count": 97,
   "metadata": {},
   "outputs": [
    {
     "name": "stdout",
     "output_type": "stream",
     "text": [
      "47 33 52 \n",
      "55 39 67 \n",
      "53 37 51 \n"
     ]
    }
   ],
   "source": [
    "ma1=[[2,5,3],\n",
    "     [1,7,2],\n",
    "     [3,5,0]]\n",
    "\n",
    "ma2=[[6,4,2],\n",
    "     [7,5,9],\n",
    "     [0,0,1]]\n",
    "\n",
    "ma3=[]\n",
    "#perkalian\n",
    "for x in range(0,len(ma1)):\n",
    "    row=[]\n",
    "    for y in range (0,len(ma1)):\n",
    "        total=0\n",
    "        for z in range(0,len(ma1)):\n",
    "            total=total+(ma1[x][z]*ma2[z][y])\n",
    "        row.append(total)\n",
    "    ma3.append(row)\n",
    "\n",
    "#Display\n",
    "for x in range(0,len(ma3)):\n",
    "    for y in range(0,len(ma3[0])):\n",
    "        print(ma3[x][y],end=' ')\n",
    "    print()"
   ]
  },
  {
   "cell_type": "markdown",
   "metadata": {},
   "source": [
    "Transpose Determinan"
   ]
  },
  {
   "cell_type": "code",
   "execution_count": 98,
   "metadata": {},
   "outputs": [
    {
     "name": "stdout",
     "output_type": "stream",
     "text": [
      "Sebelum urut: \n",
      " [[6 4 2]\n",
      " [7 5 9]\n",
      " [0 0 1]] \n",
      "Sesudah urut :\n",
      " [[6 7 0]\n",
      " [4 5 0]\n",
      " [2 9 1]]\n"
     ]
    }
   ],
   "source": [
    "matr4=np.array([[6,4,2],\n",
    "                [7,5,9],\n",
    "                [0,0,1]])\n",
    "print('Sebelum urut: \\n',matr4,'\\nSesudah urut :\\n',matr4.T)\n"
   ]
  },
  {
   "cell_type": "markdown",
   "metadata": {},
   "source": [
    "Nmin, Nmax, rata-rata, varian, dan standar deviasi "
   ]
  },
  {
   "cell_type": "code",
   "execution_count": 99,
   "metadata": {},
   "outputs": [
    {
     "name": "stdout",
     "output_type": "stream",
     "text": [
      "Matriks\n",
      " [[ 9  2  5]\n",
      " [ 1  7  1]\n",
      " [ 3  5 -6]] \n",
      "Nilai max\n",
      " 9 \n",
      "Nilai min\n",
      " -6 \n",
      "Standar Dev\n",
      " 4.08 \n",
      "Rata Rata\n",
      " 3.0 \n",
      "Varian/Ragam\n",
      " 16.67\n"
     ]
    }
   ],
   "source": [
    "matr5=np.array([[9,2,5],\n",
    "       [1,7,1],\n",
    "       [3,5,-6]])\n",
    "\n",
    "print('Matriks\\n',matr5,'\\nNilai max\\n',np.max(matr5),'\\nNilai min\\n',np.min(matr5),'\\nStandar Dev\\n', round(np.std(matr5),2),'\\nRata Rata\\n',np.mean(matr5),'\\nVarian/Ragam\\n',round(np.var(matr5),2))"
   ]
  },
  {
   "cell_type": "markdown",
   "metadata": {},
   "source": [
    "## Tugas"
   ]
  },
  {
   "cell_type": "markdown",
   "metadata": {},
   "source": [
    "### Data Matriks"
   ]
  },
  {
   "cell_type": "code",
   "execution_count": 2,
   "metadata": {},
   "outputs": [],
   "source": [
    "#Run terlebih dahulu cell matriks ini, agar command yang ada dibawahnya dapat di proses\n",
    "mat=[[5,0,8],\n",
    "     [2,6,7],\n",
    "     [1,3,4]]"
   ]
  },
  {
   "cell_type": "markdown",
   "metadata": {},
   "source": [
    "### Nomor 1"
   ]
  },
  {
   "cell_type": "code",
   "execution_count": 3,
   "metadata": {},
   "outputs": [
    {
     "name": "stdout",
     "output_type": "stream",
     "text": [
      "6\n"
     ]
    }
   ],
   "source": [
    "print(mat[1][1])"
   ]
  },
  {
   "cell_type": "markdown",
   "metadata": {},
   "source": [
    "### Nomor 2"
   ]
  },
  {
   "cell_type": "code",
   "execution_count": 4,
   "metadata": {},
   "outputs": [
    {
     "name": "stdout",
     "output_type": "stream",
     "text": [
      "7\n"
     ]
    }
   ],
   "source": [
    "print(mat[1][2])"
   ]
  },
  {
   "cell_type": "markdown",
   "metadata": {},
   "source": [
    "### Nomor 3"
   ]
  },
  {
   "cell_type": "code",
   "execution_count": 5,
   "metadata": {},
   "outputs": [
    {
     "name": "stdout",
     "output_type": "stream",
     "text": [
      "Cara 1= [1, 3, 4]\n",
      "Cara 2= 1 3 4 \n"
     ]
    }
   ],
   "source": [
    "print('Cara 1=',mat[2])\n",
    "\n",
    "#atau\n",
    "\n",
    "for a in range(2,len(mat)):\n",
    "    print('Cara 2',end='= ')\n",
    "    for b in range(len(mat)):\n",
    "        print(mat[a][b],end=' ')\n",
    "    print()"
   ]
  },
  {
   "cell_type": "markdown",
   "metadata": {},
   "source": [
    "### Nomor 4"
   ]
  },
  {
   "cell_type": "code",
   "execution_count": 6,
   "metadata": {},
   "outputs": [
    {
     "name": "stdout",
     "output_type": "stream",
     "text": [
      "Cara 1= [5, 2, 1]\n",
      "Cara 2= 5 2 1 "
     ]
    }
   ],
   "source": [
    "print('Cara 1=',[baris[0] for baris in mat])\n",
    "\n",
    "#atau\n",
    "\n",
    "print('Cara 2=',end=' ')\n",
    "for a in range(len(mat)):\n",
    "    for b in range(len(mat)-2):\n",
    "        print(mat[a][b],end=' ')"
   ]
  },
  {
   "cell_type": "code",
   "execution_count": null,
   "metadata": {},
   "outputs": [],
   "source": []
  }
 ],
 "metadata": {
  "interpreter": {
   "hash": "6d46af94c2bbce495f1e668725902fa517c90b1782bcfe2fce0dd9868df553d3"
  },
  "kernelspec": {
   "display_name": "Python 3",
   "language": "python",
   "name": "python3"
  },
  "language_info": {
   "codemirror_mode": {
    "name": "ipython",
    "version": 3
   },
   "file_extension": ".py",
   "mimetype": "text/x-python",
   "name": "python",
   "nbconvert_exporter": "python",
   "pygments_lexer": "ipython3",
   "version": "3.8.3"
  }
 },
 "nbformat": 4,
 "nbformat_minor": 2
}
