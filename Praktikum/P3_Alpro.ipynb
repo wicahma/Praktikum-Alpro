{
 "cells": [
  {
   "cell_type": "markdown",
   "metadata": {},
   "source": [
    "#### Nama/NIM/Kelas: Teguh Dwi Cahya Kusuma/2000016015/B"
   ]
  },
  {
   "cell_type": "markdown",
   "metadata": {},
   "source": [
    "#### 1. Insertion Sort Descending "
   ]
  },
  {
   "cell_type": "code",
   "execution_count": 1,
   "metadata": {},
   "outputs": [
    {
     "name": "stdout",
     "output_type": "stream",
     "text": [
      "Masukkan angka: 1\n",
      "Masukkan angka: 2\n",
      "Masukkan angka: 3\n",
      "Masukkan angka: 4\n",
      "Masukkan angka: 5\n",
      "Masukkan angka: 00\n",
      "List Awal: [1.0, 2.0, 3.0, 4.0, 5.0]\n",
      "\n",
      "Hasil Akhir: [5.0, 4.0, 3.0, 2.0, 1.0]\n"
     ]
    }
   ],
   "source": [
    "#Fungsi def Descending\n",
    "def insertionSort(List):\n",
    "    for index in range(1,len(List)):\n",
    "        Kanan = List[index]\n",
    "        Kiri = index - 1\n",
    "        while Kiri >=0 and List[Kiri] < Kanan:\n",
    "                List[Kiri + 1] = List[Kiri]\n",
    "                Kiri -= 1\n",
    "        List[Kiri+1] = Kanan\n",
    "    return(List)\n",
    "\n",
    "#Input Perulangan\n",
    "def loops():\n",
    "    while True:\n",
    "        inp=str(input('Masukkan angka: '))\n",
    "        if inp=='00':\n",
    "            break\n",
    "        else:\n",
    "            List.append(float(inp))\n",
    "    return(inp)\n",
    "\n",
    "List=[]\n",
    "loops()\n",
    "print('List Awal:',List)\n",
    "print()\n",
    "print('Hasil Akhir:',insertionSort(List))"
   ]
  },
  {
   "cell_type": "markdown",
   "metadata": {},
   "source": [
    "#### 2. Insertion Sort Descending (Dengan Penjelasan)"
   ]
  },
  {
   "cell_type": "code",
   "execution_count": 2,
   "metadata": {},
   "outputs": [
    {
     "name": "stdout",
     "output_type": "stream",
     "text": [
      "Masukkan angka: 1\n",
      "Masukkan angka: 2\n",
      "Masukkan angka: 3\n",
      "Masukkan angka: 4\n",
      "Masukkan angka: 5\n",
      "Masukkan angka: 6\n",
      "Masukkan angka: 67\n",
      "Masukkan angka: 00\n",
      "List Awal: [1.0, 2.0, 3.0, 4.0, 5.0, 6.0, 67.0]\n",
      "\n",
      "Iterasi ke 1\n",
      "Pergeseran Ke 1 ,List:  [1.0, 1.0, 3.0, 4.0, 5.0, 6.0, 67.0]\n",
      "List [2.0, 1.0, 3.0, 4.0, 5.0, 6.0, 67.0]\n",
      "\n",
      "Iterasi ke 2\n",
      "Pergeseran Ke 1 ,List:  [2.0, 1.0, 1.0, 4.0, 5.0, 6.0, 67.0]\n",
      "Pergeseran Ke 2 ,List:  [2.0, 2.0, 1.0, 4.0, 5.0, 6.0, 67.0]\n",
      "List [3.0, 2.0, 1.0, 4.0, 5.0, 6.0, 67.0]\n",
      "\n",
      "Iterasi ke 3\n",
      "Pergeseran Ke 1 ,List:  [3.0, 2.0, 1.0, 1.0, 5.0, 6.0, 67.0]\n",
      "Pergeseran Ke 2 ,List:  [3.0, 2.0, 2.0, 1.0, 5.0, 6.0, 67.0]\n",
      "Pergeseran Ke 3 ,List:  [3.0, 3.0, 2.0, 1.0, 5.0, 6.0, 67.0]\n",
      "List [4.0, 3.0, 2.0, 1.0, 5.0, 6.0, 67.0]\n",
      "\n",
      "Iterasi ke 4\n",
      "Pergeseran Ke 1 ,List:  [4.0, 3.0, 2.0, 1.0, 1.0, 6.0, 67.0]\n",
      "Pergeseran Ke 2 ,List:  [4.0, 3.0, 2.0, 2.0, 1.0, 6.0, 67.0]\n",
      "Pergeseran Ke 3 ,List:  [4.0, 3.0, 3.0, 2.0, 1.0, 6.0, 67.0]\n",
      "Pergeseran Ke 4 ,List:  [4.0, 4.0, 3.0, 2.0, 1.0, 6.0, 67.0]\n",
      "List [5.0, 4.0, 3.0, 2.0, 1.0, 6.0, 67.0]\n",
      "\n",
      "Iterasi ke 5\n",
      "Pergeseran Ke 1 ,List:  [5.0, 4.0, 3.0, 2.0, 1.0, 1.0, 67.0]\n",
      "Pergeseran Ke 2 ,List:  [5.0, 4.0, 3.0, 2.0, 2.0, 1.0, 67.0]\n",
      "Pergeseran Ke 3 ,List:  [5.0, 4.0, 3.0, 3.0, 2.0, 1.0, 67.0]\n",
      "Pergeseran Ke 4 ,List:  [5.0, 4.0, 4.0, 3.0, 2.0, 1.0, 67.0]\n",
      "Pergeseran Ke 5 ,List:  [5.0, 5.0, 4.0, 3.0, 2.0, 1.0, 67.0]\n",
      "List [6.0, 5.0, 4.0, 3.0, 2.0, 1.0, 67.0]\n",
      "\n",
      "Iterasi ke 6\n",
      "Pergeseran Ke 1 ,List:  [6.0, 5.0, 4.0, 3.0, 2.0, 1.0, 1.0]\n",
      "Pergeseran Ke 2 ,List:  [6.0, 5.0, 4.0, 3.0, 2.0, 2.0, 1.0]\n",
      "Pergeseran Ke 3 ,List:  [6.0, 5.0, 4.0, 3.0, 3.0, 2.0, 1.0]\n",
      "Pergeseran Ke 4 ,List:  [6.0, 5.0, 4.0, 4.0, 3.0, 2.0, 1.0]\n",
      "Pergeseran Ke 5 ,List:  [6.0, 5.0, 5.0, 4.0, 3.0, 2.0, 1.0]\n",
      "Pergeseran Ke 6 ,List:  [6.0, 6.0, 5.0, 4.0, 3.0, 2.0, 1.0]\n",
      "List [67.0, 6.0, 5.0, 4.0, 3.0, 2.0, 1.0]\n",
      "\n",
      "Hasil Akhir: [67.0, 6.0, 5.0, 4.0, 3.0, 2.0, 1.0]\n"
     ]
    }
   ],
   "source": [
    "#Fungsi def Descending\n",
    "def insertionSort(List):\n",
    "    for index in range(1,len(List)):\n",
    "        Kanan = List[index]\n",
    "        Kiri = index - 1\n",
    "        gsr=0\n",
    "        print('Iterasi ke',index)\n",
    "        while Kiri >=0 and List[Kiri] < Kanan:\n",
    "                List[Kiri + 1] = List[Kiri]\n",
    "                Kiri -= 1\n",
    "                gsr+=1\n",
    "                print('Pergeseran Ke',gsr,',List: ',List)\n",
    "        List[Kiri+1] = Kanan\n",
    "        print('List',List)\n",
    "        print()\n",
    "    return(List)\n",
    "\n",
    "#Input Perulangan\n",
    "def loops():\n",
    "    while True:\n",
    "        inp=str(input('Masukkan angka: '))\n",
    "        if inp=='00':\n",
    "            break\n",
    "        else:\n",
    "            List.append(float(inp))\n",
    "    return(inp)\n",
    "\n",
    "List=[]\n",
    "loops()\n",
    "print('List Awal:',List)\n",
    "print()\n",
    "print('Hasil Akhir:',insertionSort(List))"
   ]
  },
  {
   "cell_type": "code",
   "execution_count": null,
   "metadata": {},
   "outputs": [],
   "source": []
  }
 ],
 "metadata": {
  "kernelspec": {
   "display_name": "Python 3",
   "language": "python",
   "name": "python3"
  },
  "language_info": {
   "codemirror_mode": {
    "name": "ipython",
    "version": 3
   },
   "file_extension": ".py",
   "mimetype": "text/x-python",
   "name": "python",
   "nbconvert_exporter": "python",
   "pygments_lexer": "ipython3",
   "version": "3.8.3"
  }
 },
 "nbformat": 4,
 "nbformat_minor": 4
}
