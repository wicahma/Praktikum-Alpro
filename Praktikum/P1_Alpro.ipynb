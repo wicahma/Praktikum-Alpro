{
 "cells": [
  {
   "cell_type": "code",
   "execution_count": null,
   "metadata": {},
   "outputs": [],
   "source": [
    "#Teguh Dwi Cahya Kusuma\n",
    "#2000016015\n",
    "#Kelas B "
   ]
  },
  {
   "cell_type": "markdown",
   "metadata": {},
   "source": [
    "### Luas Lingkaran"
   ]
  },
  {
   "cell_type": "code",
   "execution_count": 14,
   "metadata": {},
   "outputs": [],
   "source": [
    "#Luas Lingkaran\n",
    "def Lling (r):\n",
    "    Hsl=3.14*r**2\n",
    "    if r<=0:\n",
    "        print(\"Lingkaran anda Salah\")\n",
    "    else:\n",
    "        print('Luas Lingkaran Anda',round(Hsl,2))\n",
    "    return Hsl"
   ]
  },
  {
   "cell_type": "markdown",
   "metadata": {},
   "source": [
    "### Nilai Minimum"
   ]
  },
  {
   "cell_type": "code",
   "execution_count": 48,
   "metadata": {},
   "outputs": [],
   "source": [
    "#Nilai Minimum\n",
    "def Nmin ():\n",
    "    Nilai=[]\n",
    "    prog='n'\n",
    "    Ang=()\n",
    "    print(\"\\nProgram menghitung nilai minimum tanpa batas,\\ntekan '00' apabila ingin berhenti \\ndan melihat hasil nilai minimum\")\n",
    "    #Memasukkan Angka\n",
    "    while prog=='n':\n",
    "        Ang=input('Angka: ')\n",
    "        if Ang==\"00\": break\n",
    "        Nilai.append(Ang)\n",
    "    Hsl=Nilai[1]\n",
    "    #Menentukan Nilai Terbesar\n",
    "    for angka in Nilai:\n",
    "        if float(angka) < float(Hsl):\n",
    "            Hsl=angka\n",
    "    print('List Nilai anda\\n',Nilai)\n",
    "    return Hsl\n"
   ]
  },
  {
   "cell_type": "markdown",
   "metadata": {},
   "source": [
    "### Nilai Rata-Rata"
   ]
  },
  {
   "cell_type": "code",
   "execution_count": 60,
   "metadata": {},
   "outputs": [],
   "source": [
    "#Nilai Rata-Rata\n",
    "def Nrat():\n",
    "    Nilai=[]\n",
    "    loop='y'\n",
    "    print('''Program menghitung nilai rata-rata tanpa batas,\\ntekan '00' apabila ingin berhenti \\ndan melihat hasil nilai rata-rata ''')\n",
    "    while loop=='y':\n",
    "        inp=input('Angka: ')\n",
    "        if inp=='00': break\n",
    "        Nilai.append(inp)\n",
    "    jml=0\n",
    "    for angka in (Nilai):\n",
    "        jml+= float(angka)\n",
    "    Hsl=jml/len(Nilai)\n",
    "    print('jumlah nilai anda: ',round(jml,2))\n",
    "    return Hsl"
   ]
  },
  {
   "cell_type": "markdown",
   "metadata": {},
   "source": [
    "### Program Utama Untuk Memilih Fungsi"
   ]
  },
  {
   "cell_type": "code",
   "execution_count": 61,
   "metadata": {},
   "outputs": [
    {
     "name": "stdout",
     "output_type": "stream",
     "text": [
      "\n",
      "    List pilihan:\n",
      "        1 => Menghitung Luas Lingkaran\n",
      "        2 => menghitung Nilai Terkecil\n",
      "        3 => Menghitung Rata-Rata\n",
      "    Tekan sembarang untuk keluar...\n",
      "              \n",
      "Masukkan pilihan anda: 3\n",
      "Program menghitung nilai rata-rata tanpa batas,\n",
      "tekan '00' apabila ingin berhenti \n",
      "dan melihat hasil nilai rata-rata \n",
      "Angka: 0.32\n",
      "Angka: 21.45\n",
      "Angka: 23\n",
      "Angka: 0\n",
      "Angka: -0.97\n",
      "Angka: -5.48\n",
      "Angka: -49\n",
      "Angka: 00\n",
      "jumlah nilai anda:  -10.68\n",
      "Nilai rata rata anda -1.53\n",
      "\n",
      "    List pilihan:\n",
      "        1 => Menghitung Luas Lingkaran\n",
      "        2 => menghitung Nilai Terkecil\n",
      "        3 => Menghitung Rata-Rata\n",
      "    Tekan sembarang untuk keluar...\n",
      "              \n",
      "Masukkan pilihan anda: 2\n",
      "\n",
      "Program menghitung nilai minimum tanpa batas,\n",
      "tekan '00' apabila ingin berhenti \n",
      "dan melihat hasil nilai minimum\n",
      "Angka: 2\n",
      "Angka: 0.32\n",
      "Angka: -21.234\n",
      "Angka: 547\n",
      "Angka: 34.564\n",
      "Angka: -43\n",
      "Angka: -65.348\n",
      "Angka: -0\n",
      "Angka: -4.7\n",
      "Angka: 00\n",
      "List Nilai anda\n",
      " ['2', '0.32', '-21.234', '547', '34.564', '-43', '-65.348', '-0', '-4.7']\n",
      "Nilai terkecil anda -65.348\n",
      "\n",
      "    List pilihan:\n",
      "        1 => Menghitung Luas Lingkaran\n",
      "        2 => menghitung Nilai Terkecil\n",
      "        3 => Menghitung Rata-Rata\n",
      "    Tekan sembarang untuk keluar...\n",
      "              \n",
      "Masukkan pilihan anda: 1\n",
      "Masukkan Jari-jari: 7\n",
      "Luas Lingkaran Anda 153.86\n",
      "\n",
      "    List pilihan:\n",
      "        1 => Menghitung Luas Lingkaran\n",
      "        2 => menghitung Nilai Terkecil\n",
      "        3 => Menghitung Rata-Rata\n",
      "    Tekan sembarang untuk keluar...\n",
      "              \n",
      "Masukkan pilihan anda: \n",
      " \n",
      "Program selesai...\n"
     ]
    }
   ],
   "source": [
    "#Program memilih\n",
    "def pilihan():\n",
    "    while True:\n",
    "        print('''\n",
    "    List pilihan:\n",
    "        1 => Menghitung Luas Lingkaran\n",
    "        2 => menghitung Nilai Terkecil\n",
    "        3 => Menghitung Rata-Rata\n",
    "    Tekan sembarang untuk keluar...\n",
    "              ''')\n",
    "        pil=input(\"Masukkan pilihan anda: \")\n",
    "        if pil=='1':\n",
    "            r=float(input('Masukkan Jari-jari: '))\n",
    "            Lling(r)\n",
    "        elif pil=='2':\n",
    "            print('Nilai terkecil anda',Nmin())\n",
    "        elif pil=='3':\n",
    "            print('Nilai rata rata anda',round(Nrat(),2))\n",
    "        else:\n",
    "            break\n",
    "    return pil\n",
    "\n",
    "print(pilihan(),'\\nProgram selesai...')   "
   ]
  }
 ],
 "metadata": {
  "kernelspec": {
   "display_name": "Python 3",
   "language": "python",
   "name": "python3"
  },
  "language_info": {
   "codemirror_mode": {
    "name": "ipython",
    "version": 3
   },
   "file_extension": ".py",
   "mimetype": "text/x-python",
   "name": "python",
   "nbconvert_exporter": "python",
   "pygments_lexer": "ipython3",
   "version": "3.8.3"
  }
 },
 "nbformat": 4,
 "nbformat_minor": 4
}
