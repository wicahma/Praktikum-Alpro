{
 "metadata": {
  "language_info": {
   "codemirror_mode": {
    "name": "ipython",
    "version": 3
   },
   "file_extension": ".py",
   "mimetype": "text/x-python",
   "name": "python",
   "nbconvert_exporter": "python",
   "pygments_lexer": "ipython3",
   "version": "3.9.0"
  },
  "orig_nbformat": 4,
  "kernelspec": {
   "name": "python3",
   "display_name": "Python 3.9.0 64-bit"
  },
  "interpreter": {
   "hash": "247ab06e135bb35fa78c5eff31b2a9a0050dcb5fb773c2631d2a29ac689eeccb"
  }
 },
 "nbformat": 4,
 "nbformat_minor": 2,
 "cells": [
  {
   "source": [
    "Teguh Dwi Cahya Kusuma / 2000016015 / Alpro B"
   ],
   "cell_type": "markdown",
   "metadata": {}
  },
  {
   "source": [
    "### Percobaan"
   ],
   "cell_type": "markdown",
   "metadata": {}
  },
  {
   "source": [
    "class mahasiswa():\n",
    "    jumlah=0\n",
    "    def __init__(mhs,nama,prodi,NIM):\n",
    "        mhs.prod=prodi\n",
    "        mhs.nam=nama\n",
    "        mhs.nim=NIM\n",
    "        mhs.prod=prodi\n",
    "        mahasiswa.jumlah+=1\n",
    "    def tampil_jumlah(mhs):\n",
    "        print(\"jumlah mahasiswa %d: \", mahasiswa.jumlah)\n",
    "    def tampil_mahasiswa(mhs):\n",
    "        print('nama: ',mhs.nam,'NIM: ',mhs.nim,'Prodi: ',mhs.prod)\n",
    "\n",
    "mhs1=mahasiswa('udin','Teknik Mikrobiologi',2000016015)\n",
    "mhs2=mahasiswa(\"rehan\",\"Bahasa Meme\",160016002)\n",
    "mhs3=mahasiswa(\"tina\",\"bahasa India\",140016003)\n",
    "mhs4=mahasiswa(\"desi\",\"Sasta Arab\",130016004)\n",
    "mhs1.tampil_mahasiswa()\n",
    "mhs2.tampil_mahasiswa()\n",
    "mhs3.tampil_mahasiswa()\n",
    "mhs4.tampil_mahasiswa()\n",
    "mahasiswa.jumlah\n",
    "\n"
   ],
   "cell_type": "code",
   "metadata": {},
   "execution_count": 1,
   "outputs": [
    {
     "output_type": "stream",
     "name": "stdout",
     "text": [
      "nama:  udin NIM:  2000016015 Prodi:  Teknik Mikrobiologi\nnama:  rehan NIM:  160016002 Prodi:  Bahasa Meme\nnama:  tina NIM:  140016003 Prodi:  bahasa India\nnama:  desi NIM:  130016004 Prodi:  Sasta Arab\n"
     ]
    },
    {
     "output_type": "execute_result",
     "data": {
      "text/plain": [
       "4"
      ]
     },
     "metadata": {},
     "execution_count": 1
    }
   ]
  },
  {
   "source": [
    "### Tugas"
   ],
   "cell_type": "markdown",
   "metadata": {}
  },
  {
   "cell_type": "code",
   "execution_count": 114,
   "metadata": {},
   "outputs": [
    {
     "output_type": "stream",
     "name": "stdout",
     "text": [
      "==Keterangan\n",
      "\n",
      "    >>Jenis kendaraan\n",
      "        1. Mobil\n",
      "        2. Motor\n",
      "        3. Lainnya\n",
      "\n",
      "    >>Jenis Plat\n",
      "        1. Hitam\n",
      "        2. Kuning\n",
      "        3. Merah\n",
      "        4. Putih\n",
      "        5. Hijau\n",
      "    >>Kelengkapan\n",
      "        Tekan y untuk ada, n untuk tidak ada\n",
      "    \n",
      "\n",
      "==Data 1 \n",
      "Merek: Honda \n",
      "Pemilik: Udin \n",
      "Plat: KB 2112 JK (Plat Hitam) \n",
      "Jenis: Lainnya \n",
      "Surat surat: Surat lengkap \n",
      "Pajak: (2022) Lunas Pajak\n",
      "\n",
      "==Data 2 \n",
      "Merek: Suzuki \n",
      "Pemilik: Nurrahman \n",
      "Plat: B 6271 CA (Plat Hitam) \n",
      "Jenis: Lainnya \n",
      "Surat surat: Surat tidak lengkap \n",
      "Pajak: (2004) Belum Lunas Pajak\n"
     ]
    }
   ],
   "source": [
    "class kendaraan_darat():\n",
    "    leng=''\n",
    "    jml=0\n",
    "    print('''==Keterangan\n",
    "\n",
    "    >>Jenis kendaraan\n",
    "        1. Mobil\n",
    "        2. Motor\n",
    "        3. Lainnya\n",
    "\n",
    "    >>Jenis Plat\n",
    "        1. Hitam\n",
    "        2. Kuning\n",
    "        3. Merah\n",
    "        4. Putih\n",
    "        5. Hijau\n",
    "    >>Kelengkapan\n",
    "        Tekan y untuk ada, n untuk tidak ada\n",
    "    ''')\n",
    "    def __init__(self,merk,milik,plat):\n",
    "        self.merk=merk\n",
    "        self.milik=milik\n",
    "        self.plat=plat\n",
    "    def _hit(self):\n",
    "        jns=['Mobil','Motor','Lainnya']\n",
    "        jn_plat=['Hitam','Kuning','Merah','Putih','Hijau']\n",
    "        self.pajak=int(input('Tahun Pajak=> '))\n",
    "        self.jenis=jns[int(input('Jenis Kendaraan=> '))-1]\n",
    "        self.j_plat=jn_plat[int(input('Jenis Plat=>'))-1]\n",
    "    def _surr(self):\n",
    "        self.leng+=input('Kelengkapan BPKB=> ')\n",
    "        self.leng+=input('Kelengkapan STNK=> ')\n",
    "    def _data(self):\n",
    "        kendaraan_darat.jml+=1\n",
    "        print('\\n==Data %i \\nMerek: %s \\nPemilik: %s \\nPlat: %s' %(kendaraan_darat.jml,self.merk,self.milik,self.plat),end=' ')\n",
    "        kendaraan_darat._hit(self)\n",
    "        kendaraan_darat._surr(self)\n",
    "\n",
    "        if self.leng=='yy':\n",
    "            s='Surat lengkap'\n",
    "        else:\n",
    "            s='Surat tidak lengkap'\n",
    "        if self.pajak+5 < 2021:\n",
    "            p='Belum Lunas Pajak'\n",
    "        else:\n",
    "            p='Lunas Pajak'\n",
    "        print('(Plat %s) \\nJenis: %s \\nSurat surat: %s \\nPajak: (%i) %s'%(self.j_plat,self.jenis,s,self.pajak+5,p))\n",
    "\n",
    "kend=kendaraan_darat('Honda','Udin','KB 2112 JK')\n",
    "kend2=kendaraan_darat('Suzuki','Nurrahman','B 6271 CA')\n",
    "kend._data()\n",
    "kend2._data()\n",
    "\n",
    "\n"
   ]
  },
  {
   "cell_type": "code",
   "execution_count": 107,
   "metadata": {},
   "outputs": [
    {
     "output_type": "execute_result",
     "data": {
      "text/plain": [
       "False"
      ]
     },
     "metadata": {},
     "execution_count": 107
    }
   ],
   "source": [
    "kend.milik==kend2.milik"
   ]
  },
  {
   "cell_type": "code",
   "execution_count": 106,
   "metadata": {},
   "outputs": [],
   "source": [
    "del kend.plat"
   ]
  },
  {
   "cell_type": "code",
   "execution_count": 109,
   "metadata": {},
   "outputs": [
    {
     "output_type": "error",
     "ename": "AttributeError",
     "evalue": "'kendaraan_darat' object has no attribute 'plat'",
     "traceback": [
      "\u001b[1;31m---------------------------------------------------------------------------\u001b[0m",
      "\u001b[1;31mAttributeError\u001b[0m                            Traceback (most recent call last)",
      "\u001b[1;32m<ipython-input-109-7e8cf1a1fc41>\u001b[0m in \u001b[0;36m<module>\u001b[1;34m\u001b[0m\n\u001b[1;32m----> 1\u001b[1;33m \u001b[0mkend\u001b[0m\u001b[1;33m.\u001b[0m\u001b[0m_data\u001b[0m\u001b[1;33m(\u001b[0m\u001b[1;33m)\u001b[0m\u001b[1;33m\u001b[0m\u001b[1;33m\u001b[0m\u001b[0m\n\u001b[0m",
      "\u001b[1;32m<ipython-input-104-06f76e0da7a5>\u001b[0m in \u001b[0;36m_data\u001b[1;34m(self)\u001b[0m\n\u001b[0;32m     33\u001b[0m     \u001b[1;32mdef\u001b[0m \u001b[0m_data\u001b[0m\u001b[1;33m(\u001b[0m\u001b[0mself\u001b[0m\u001b[1;33m)\u001b[0m\u001b[1;33m:\u001b[0m\u001b[1;33m\u001b[0m\u001b[1;33m\u001b[0m\u001b[0m\n\u001b[0;32m     34\u001b[0m         \u001b[0mkendaraan_darat\u001b[0m\u001b[1;33m.\u001b[0m\u001b[0mjml\u001b[0m\u001b[1;33m+=\u001b[0m\u001b[1;36m1\u001b[0m\u001b[1;33m\u001b[0m\u001b[1;33m\u001b[0m\u001b[0m\n\u001b[1;32m---> 35\u001b[1;33m         \u001b[0mprint\u001b[0m\u001b[1;33m(\u001b[0m\u001b[1;34m'\\n==Data %i \\nMerek: %s \\nPemilik: %s \\nPlat: %s'\u001b[0m \u001b[1;33m%\u001b[0m\u001b[1;33m(\u001b[0m\u001b[0mkendaraan_darat\u001b[0m\u001b[1;33m.\u001b[0m\u001b[0mjml\u001b[0m\u001b[1;33m,\u001b[0m\u001b[0mself\u001b[0m\u001b[1;33m.\u001b[0m\u001b[0mmerk\u001b[0m\u001b[1;33m,\u001b[0m\u001b[0mself\u001b[0m\u001b[1;33m.\u001b[0m\u001b[0mmilik\u001b[0m\u001b[1;33m,\u001b[0m\u001b[0mself\u001b[0m\u001b[1;33m.\u001b[0m\u001b[0mplat\u001b[0m\u001b[1;33m)\u001b[0m\u001b[1;33m,\u001b[0m\u001b[0mend\u001b[0m\u001b[1;33m=\u001b[0m\u001b[1;34m' '\u001b[0m\u001b[1;33m)\u001b[0m\u001b[1;33m\u001b[0m\u001b[1;33m\u001b[0m\u001b[0m\n\u001b[0m\u001b[0;32m     36\u001b[0m         \u001b[0mkendaraan_darat\u001b[0m\u001b[1;33m.\u001b[0m\u001b[0m_hit\u001b[0m\u001b[1;33m(\u001b[0m\u001b[0mself\u001b[0m\u001b[1;33m)\u001b[0m\u001b[1;33m\u001b[0m\u001b[1;33m\u001b[0m\u001b[0m\n\u001b[0;32m     37\u001b[0m         \u001b[0mkendaraan_darat\u001b[0m\u001b[1;33m.\u001b[0m\u001b[0m_surr\u001b[0m\u001b[1;33m(\u001b[0m\u001b[0mself\u001b[0m\u001b[1;33m)\u001b[0m\u001b[1;33m\u001b[0m\u001b[1;33m\u001b[0m\u001b[0m\n",
      "\u001b[1;31mAttributeError\u001b[0m: 'kendaraan_darat' object has no attribute 'plat'"
     ]
    }
   ],
   "source": [
    "kend._data()"
   ]
  },
  {
   "cell_type": "code",
   "execution_count": 110,
   "metadata": {},
   "outputs": [],
   "source": [
    "kend.plat='KT 1339 BA'"
   ]
  },
  {
   "cell_type": "code",
   "execution_count": 115,
   "metadata": {},
   "outputs": [
    {
     "output_type": "stream",
     "name": "stdout",
     "text": [
      "\n",
      "==Data 3 \n",
      "Merek: Honda \n",
      "Pemilik: Udin \n",
      "Plat: KB 2112 JK (Plat Putih) \n",
      "Jenis: Motor \n",
      "Surat surat: Surat tidak lengkap \n",
      "Pajak: (1948) Belum Lunas Pajak\n"
     ]
    }
   ],
   "source": [
    "kend._data()"
   ]
  },
  {
   "cell_type": "code",
   "execution_count": 121,
   "metadata": {},
   "outputs": [
    {
     "output_type": "execute_result",
     "data": {
      "text/plain": [
       "'Honda'"
      ]
     },
     "metadata": {},
     "execution_count": 121
    }
   ],
   "source": [
    "getattr(kend,'merk')"
   ]
  },
  {
   "cell_type": "code",
   "execution_count": 122,
   "metadata": {},
   "outputs": [
    {
     "output_type": "execute_result",
     "data": {
      "text/plain": [
       "True"
      ]
     },
     "metadata": {},
     "execution_count": 122
    }
   ],
   "source": [
    "hasattr(kend2,'plat')"
   ]
  },
  {
   "cell_type": "code",
   "execution_count": 123,
   "metadata": {},
   "outputs": [],
   "source": [
    "setattr(kend2,'milik','Nurdin')"
   ]
  },
  {
   "cell_type": "code",
   "execution_count": 124,
   "metadata": {},
   "outputs": [
    {
     "output_type": "stream",
     "name": "stdout",
     "text": [
      "\n",
      "==Data 4 \n",
      "Merek: Suzuki \n",
      "Pemilik: Nurdin \n",
      "Plat: B 6271 CA (Plat Putih) \n",
      "Jenis: Motor \n",
      "Surat surat: Surat tidak lengkap \n",
      "Pajak: (2002) Belum Lunas Pajak\n"
     ]
    }
   ],
   "source": [
    "kend2._data()"
   ]
  },
  {
   "cell_type": "code",
   "execution_count": null,
   "metadata": {},
   "outputs": [],
   "source": []
  }
 ]
}